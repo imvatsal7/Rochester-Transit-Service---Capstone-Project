{
 "cells": [
  {
   "cell_type": "code",
   "execution_count": 1,
   "metadata": {},
   "outputs": [
    {
     "ename": "NameError",
     "evalue": "name 'pandas' is not defined",
     "output_type": "error",
     "traceback": [
      "\u001b[0;31m---------------------------------------------------------------------------\u001b[0m",
      "\u001b[0;31mNameError\u001b[0m                                 Traceback (most recent call last)",
      "\u001b[0;32m<ipython-input-1-0f36ad1b28cd>\u001b[0m in \u001b[0;36m<module>\u001b[0;34m\u001b[0m\n\u001b[1;32m      1\u001b[0m \u001b[0;32mimport\u001b[0m \u001b[0mpandas\u001b[0m \u001b[0;32mas\u001b[0m \u001b[0mpd\u001b[0m\u001b[0;34m\u001b[0m\u001b[0;34m\u001b[0m\u001b[0m\n\u001b[1;32m      2\u001b[0m \u001b[0;34m\u001b[0m\u001b[0m\n\u001b[0;32m----> 3\u001b[0;31m \u001b[0mdata\u001b[0m \u001b[0;34m=\u001b[0m \u001b[0mpandas\u001b[0m\u001b[0;34m.\u001b[0m\u001b[0mExcelFile\u001b[0m\u001b[0;34m(\u001b[0m\u001b[0;34m\"Master_Scheduled_Days_Off.xlsx\"\u001b[0m\u001b[0;34m)\u001b[0m\u001b[0;34m\u001b[0m\u001b[0;34m\u001b[0m\u001b[0m\n\u001b[0m\u001b[1;32m      4\u001b[0m \u001b[0mdf\u001b[0m \u001b[0;34m=\u001b[0m \u001b[0mpd\u001b[0m\u001b[0;34m.\u001b[0m\u001b[0mread_excel\u001b[0m\u001b[0;34m(\u001b[0m\u001b[0;34m\"Master_Scheduled_Days_Off.xlsx\"\u001b[0m\u001b[0;34m)\u001b[0m\u001b[0;34m\u001b[0m\u001b[0;34m\u001b[0m\u001b[0m\n\u001b[1;32m      5\u001b[0m \u001b[0;34m\u001b[0m\u001b[0m\n",
      "\u001b[0;31mNameError\u001b[0m: name 'pandas' is not defined"
     ]
    }
   ],
   "source": [
    "import pandas as pd\n",
    "\n",
    "data = pandas.ExcelFile(\"Master_Scheduled_Days_Off.xlsx\")\n",
    "df = pd.read_excel(\"Master_Scheduled_Days_Off.xlsx\")\n",
    "\n",
    "df=df.set_index('Operator_ID')\n",
    "df.head()\n"
   ]
  },
  {
   "cell_type": "code",
   "execution_count": null,
   "metadata": {},
   "outputs": [],
   "source": [
    "for index2, row2 in df3.iterrows():\n",
    "            if index2==1:\n",
    "                c=row2['From_Date'].date()\n",
    "                f=row2['Absence_Type']\n",
    "                print(c,f)"
   ]
  },
  {
   "cell_type": "code",
   "execution_count": 2,
   "metadata": {},
   "outputs": [
    {
     "name": "stdout",
     "output_type": "stream",
     "text": [
      "1\n",
      "2\n",
      "3\n",
      "4\n",
      "5\n",
      "6\n",
      "7\n",
      "8\n",
      "9\n",
      "10\n",
      "11\n",
      "12\n",
      "13\n",
      "14\n",
      "15\n",
      "16\n",
      "17\n",
      "18\n",
      "19\n",
      "20\n",
      "21\n",
      "22\n",
      "23\n",
      "24\n",
      "25\n",
      "26\n",
      "27\n",
      "28\n",
      "29\n",
      "30\n",
      "31\n",
      "32\n",
      "33\n",
      "34\n",
      "35\n",
      "36\n",
      "37\n",
      "38\n",
      "39\n",
      "40\n",
      "41\n",
      "42\n"
     ]
    }
   ],
   "source": [
    "for i in range(1,43):\n",
    "    print(i)"
   ]
  },
  {
   "cell_type": "code",
   "execution_count": 3,
   "metadata": {},
   "outputs": [
    {
     "name": "stdout",
     "output_type": "stream",
     "text": [
      "Empty DataFrame\n",
      "Columns: []\n",
      "Index: []\n"
     ]
    }
   ],
   "source": [
    "output = pd.DataFrame()\n",
    "dic={'Effective_On':1,'No_Longer_Effective_After':2,'accdate':3}\n",
    "output.append(dic, ignore_index=True)\n",
    "print(output)"
   ]
  },
  {
   "cell_type": "code",
   "execution_count": 4,
   "metadata": {},
   "outputs": [
    {
     "name": "stdout",
     "output_type": "stream",
     "text": [
      "1\n"
     ]
    },
    {
     "ename": "NameError",
     "evalue": "name 'df' is not defined",
     "output_type": "error",
     "traceback": [
      "\u001b[0;31m---------------------------------------------------------------------------\u001b[0m",
      "\u001b[0;31mNameError\u001b[0m                                 Traceback (most recent call last)",
      "\u001b[0;32m<ipython-input-4-aea36b92ac3c>\u001b[0m in \u001b[0;36m<module>\u001b[0;34m\u001b[0m\n\u001b[1;32m      2\u001b[0m \u001b[0;32mfor\u001b[0m \u001b[0mi\u001b[0m \u001b[0;32min\u001b[0m \u001b[0mrange\u001b[0m\u001b[0;34m(\u001b[0m\u001b[0;36m1\u001b[0m\u001b[0;34m,\u001b[0m\u001b[0;36m431\u001b[0m\u001b[0;34m)\u001b[0m\u001b[0;34m:\u001b[0m\u001b[0;34m\u001b[0m\u001b[0;34m\u001b[0m\u001b[0m\n\u001b[1;32m      3\u001b[0m     \u001b[0mprint\u001b[0m\u001b[0;34m(\u001b[0m\u001b[0mi\u001b[0m\u001b[0;34m)\u001b[0m\u001b[0;34m\u001b[0m\u001b[0;34m\u001b[0m\u001b[0m\n\u001b[0;32m----> 4\u001b[0;31m     \u001b[0;32mfor\u001b[0m \u001b[0mindex\u001b[0m\u001b[0;34m,\u001b[0m \u001b[0mrow\u001b[0m \u001b[0;32min\u001b[0m \u001b[0mdf\u001b[0m\u001b[0;34m.\u001b[0m\u001b[0miterrows\u001b[0m\u001b[0;34m(\u001b[0m\u001b[0;34m)\u001b[0m\u001b[0;34m:\u001b[0m\u001b[0;34m\u001b[0m\u001b[0;34m\u001b[0m\u001b[0m\n\u001b[0m\u001b[1;32m      5\u001b[0m         \u001b[0;32mif\u001b[0m \u001b[0mindex\u001b[0m\u001b[0;34m==\u001b[0m\u001b[0mi\u001b[0m\u001b[0;34m:\u001b[0m\u001b[0;34m\u001b[0m\u001b[0;34m\u001b[0m\u001b[0m\n\u001b[1;32m      6\u001b[0m \u001b[0;34m\u001b[0m\u001b[0m\n",
      "\u001b[0;31mNameError\u001b[0m: name 'df' is not defined"
     ]
    }
   ],
   "source": [
    "new_list=[]\n",
    "for i in range(1,431):\n",
    "    print(i)\n",
    "    for index, row in df.iterrows():\n",
    "        if index==i:\n",
    "            \n",
    "            a=row['Effective_On'].date()\n",
    "            b=row['No_Longer_Effective_After'].date()\n",
    "            \n",
    "            for index3, row3 in df2.iterrows():\n",
    "                            if index3==i:\n",
    "                                d=row3['accdate'].date()\n",
    "\n",
    "\n",
    "                                if d in (a, b):\n",
    "\n",
    "                                    dic=(index,a,b,d)\n",
    "                                    new_list.append(dic)\n",
    "#                                     'Effective_On':a,'No_Longer_Effective_After':b,'accdate':d,}\n",
    "#                                     output.append(dic, ignore_index=True)\n",
    "                                else:\n",
    "                                \n",
    "                                    continue\n",
    "                            else:\n",
    "                                continue\n",
    "        else:\n",
    "            \n",
    "            continue\n",
    "\n",
    "                        \n",
    "print('done')\n",
    "\n",
    "                \n",
    "            \n"
   ]
  },
  {
   "cell_type": "code",
   "execution_count": 5,
   "metadata": {},
   "outputs": [
    {
     "data": {
      "text/plain": [
       "[]"
      ]
     },
     "execution_count": 5,
     "metadata": {},
     "output_type": "execute_result"
    }
   ],
   "source": [
    "new_list\n"
   ]
  },
  {
   "cell_type": "code",
   "execution_count": 6,
   "metadata": {},
   "outputs": [
    {
     "name": "stdout",
     "output_type": "stream",
     "text": [
      "Empty DataFrame\n",
      "Columns: []\n",
      "Index: []\n"
     ]
    }
   ],
   "source": [
    "print(output)"
   ]
  },
  {
   "cell_type": "code",
   "execution_count": 7,
   "metadata": {},
   "outputs": [
    {
     "ename": "NameError",
     "evalue": "name 'df' is not defined",
     "output_type": "error",
     "traceback": [
      "\u001b[0;31m---------------------------------------------------------------------------\u001b[0m",
      "\u001b[0;31mNameError\u001b[0m                                 Traceback (most recent call last)",
      "\u001b[0;32m<ipython-input-7-bf4244d59787>\u001b[0m in \u001b[0;36m<module>\u001b[0;34m\u001b[0m\n\u001b[1;32m      1\u001b[0m \u001b[0;34m\u001b[0m\u001b[0m\n\u001b[0;32m----> 2\u001b[0;31m \u001b[0mdd\u001b[0m\u001b[0;34m=\u001b[0m\u001b[0mdf\u001b[0m\u001b[0;34m.\u001b[0m\u001b[0mloc\u001b[0m\u001b[0;34m[\u001b[0m\u001b[0;36m1\u001b[0m\u001b[0;34m]\u001b[0m\u001b[0;34m\u001b[0m\u001b[0;34m\u001b[0m\u001b[0m\n\u001b[0m\u001b[1;32m      3\u001b[0m \u001b[0mprint\u001b[0m\u001b[0;34m(\u001b[0m\u001b[0mdd\u001b[0m\u001b[0;34m)\u001b[0m\u001b[0;34m\u001b[0m\u001b[0;34m\u001b[0m\u001b[0m\n\u001b[1;32m      4\u001b[0m \u001b[0mc\u001b[0m\u001b[0;34m=\u001b[0m\u001b[0mdd\u001b[0m\u001b[0;34m[\u001b[0m\u001b[0;34m'Effective_On'\u001b[0m\u001b[0;34m]\u001b[0m\u001b[0;34m\u001b[0m\u001b[0;34m\u001b[0m\u001b[0m\n\u001b[1;32m      5\u001b[0m \u001b[0;34m\u001b[0m\u001b[0m\n",
      "\u001b[0;31mNameError\u001b[0m: name 'df' is not defined"
     ]
    }
   ],
   "source": [
    "\n",
    "dd=df.loc[1]\n",
    "print(dd)\n",
    "c=dd['Effective_On']\n",
    "\n",
    "print(c)\n",
    "    \n",
    "#     for index, row in df.iterrows():\n",
    "#         if index==i:\n",
    "            \n",
    "#             a=row['Effective_On'].date()\n",
    "#             b=row['No_Longer_Effective_After'].date()\n",
    "#             for index2, row2 in df3.iterrows():\n",
    "#                 if index2==i:\n",
    "#                     c=row2['From_Date'].date()\n",
    "#                     f=row2['Absence_Type']\n",
    "\n",
    "#                     if c in (a, b):\n",
    "#                         for index3, row3 in df2.iterrows():\n",
    "#                             if index3==i:\n",
    "#                                 d=row3['accdate'].date()\n",
    "\n",
    "\n",
    "#                                 if d in (a, b):\n",
    "\n",
    "#                                     print({'Effective_On':a,'No_Longer_Effective_After':b,'Absence_Date':c,'accdate':d,'Absence_Type':f})\n",
    "#                             else:\n",
    "                                \n",
    "#                                 continue\n",
    "\n",
    "                        \n",
    "print('done')\n"
   ]
  },
  {
   "cell_type": "code",
   "execution_count": 8,
   "metadata": {},
   "outputs": [],
   "source": [
    "output = pd.DataFrame()\n"
   ]
  },
  {
   "cell_type": "code",
   "execution_count": null,
   "metadata": {},
   "outputs": [],
   "source": []
  },
  {
   "cell_type": "code",
   "execution_count": 9,
   "metadata": {},
   "outputs": [
    {
     "data": {
      "text/plain": [
       "{'Effective_On': 1, 'No_Longer_Effective_After': 2, 'accdate': 3}"
      ]
     },
     "execution_count": 9,
     "metadata": {},
     "output_type": "execute_result"
    }
   ],
   "source": [
    "dic"
   ]
  },
  {
   "cell_type": "code",
   "execution_count": 10,
   "metadata": {},
   "outputs": [
    {
     "data": {
      "text/html": [
       "<div>\n",
       "<style scoped>\n",
       "    .dataframe tbody tr th:only-of-type {\n",
       "        vertical-align: middle;\n",
       "    }\n",
       "\n",
       "    .dataframe tbody tr th {\n",
       "        vertical-align: top;\n",
       "    }\n",
       "\n",
       "    .dataframe thead th {\n",
       "        text-align: right;\n",
       "    }\n",
       "</style>\n",
       "<table border=\"1\" class=\"dataframe\">\n",
       "  <thead>\n",
       "    <tr style=\"text-align: right;\">\n",
       "      <th></th>\n",
       "    </tr>\n",
       "  </thead>\n",
       "  <tbody>\n",
       "  </tbody>\n",
       "</table>\n",
       "</div>"
      ],
      "text/plain": [
       "Empty DataFrame\n",
       "Columns: []\n",
       "Index: []"
      ]
     },
     "execution_count": 10,
     "metadata": {},
     "output_type": "execute_result"
    }
   ],
   "source": [
    "output"
   ]
  },
  {
   "cell_type": "code",
   "execution_count": 11,
   "metadata": {},
   "outputs": [
    {
     "data": {
      "text/html": [
       "<div>\n",
       "<style scoped>\n",
       "    .dataframe tbody tr th:only-of-type {\n",
       "        vertical-align: middle;\n",
       "    }\n",
       "\n",
       "    .dataframe tbody tr th {\n",
       "        vertical-align: top;\n",
       "    }\n",
       "\n",
       "    .dataframe thead th {\n",
       "        text-align: right;\n",
       "    }\n",
       "</style>\n",
       "<table border=\"1\" class=\"dataframe\">\n",
       "  <thead>\n",
       "    <tr style=\"text-align: right;\">\n",
       "      <th></th>\n",
       "      <th>accdate</th>\n",
       "      <th>AccTypeCodeDescr</th>\n",
       "      <th>AccSubTypeCodeDescr</th>\n",
       "      <th>acctype</th>\n",
       "      <th>BAITFISH Code</th>\n",
       "      <th>FileNumber</th>\n",
       "      <th>AccPreventable</th>\n",
       "      <th>Retraining</th>\n",
       "      <th>RetrainingDate</th>\n",
       "      <th>vehbusno</th>\n",
       "      <th>...</th>\n",
       "      <th>VehNoOccupants</th>\n",
       "      <th>Drv_Age</th>\n",
       "      <th>CoDrvSex</th>\n",
       "      <th>Roadway</th>\n",
       "      <th>RoadwayLightConditions</th>\n",
       "      <th>RoadwayWeather</th>\n",
       "      <th>RoadwaySurface</th>\n",
       "      <th>LocAddr1</th>\n",
       "      <th>Addr_Type</th>\n",
       "      <th>Neighborhood</th>\n",
       "    </tr>\n",
       "    <tr>\n",
       "      <th>Operator_ID</th>\n",
       "      <th></th>\n",
       "      <th></th>\n",
       "      <th></th>\n",
       "      <th></th>\n",
       "      <th></th>\n",
       "      <th></th>\n",
       "      <th></th>\n",
       "      <th></th>\n",
       "      <th></th>\n",
       "      <th></th>\n",
       "      <th></th>\n",
       "      <th></th>\n",
       "      <th></th>\n",
       "      <th></th>\n",
       "      <th></th>\n",
       "      <th></th>\n",
       "      <th></th>\n",
       "      <th></th>\n",
       "      <th></th>\n",
       "      <th></th>\n",
       "      <th></th>\n",
       "    </tr>\n",
       "  </thead>\n",
       "  <tbody>\n",
       "    <tr>\n",
       "      <th>1</th>\n",
       "      <td>2014-09-29 15:07:00</td>\n",
       "      <td>Collisions w/Other Objects</td>\n",
       "      <td>Fixed object (lamp posts, poles, etc.)</td>\n",
       "      <td>04 - MVA with Fixed Object</td>\n",
       "      <td>Fixed Object</td>\n",
       "      <td>14-1043</td>\n",
       "      <td>Preventable</td>\n",
       "      <td>Y</td>\n",
       "      <td>2014-10-08</td>\n",
       "      <td>528.0</td>\n",
       "      <td>...</td>\n",
       "      <td>5.0</td>\n",
       "      <td>65.0</td>\n",
       "      <td>M</td>\n",
       "      <td>Curve and Grade</td>\n",
       "      <td>Daylight</td>\n",
       "      <td>Clear</td>\n",
       "      <td>Dry</td>\n",
       "      <td>425 Paul Rd</td>\n",
       "      <td>Address</td>\n",
       "      <td>West Irondequoit</td>\n",
       "    </tr>\n",
       "    <tr>\n",
       "      <th>1</th>\n",
       "      <td>2015-03-18 15:29:00</td>\n",
       "      <td>Vehicle Passing</td>\n",
       "      <td>Vehicle cuts in and scrapes RGRTA on left side</td>\n",
       "      <td>03 - MVA with Vehicle</td>\n",
       "      <td>0</td>\n",
       "      <td>15-510</td>\n",
       "      <td>Non-Preventable</td>\n",
       "      <td>N</td>\n",
       "      <td>NaT</td>\n",
       "      <td>910.0</td>\n",
       "      <td>...</td>\n",
       "      <td>0.0</td>\n",
       "      <td>65.0</td>\n",
       "      <td>M</td>\n",
       "      <td>Straight and Level</td>\n",
       "      <td>Daylight</td>\n",
       "      <td>Clear</td>\n",
       "      <td>Dry</td>\n",
       "      <td>699 East Main St.</td>\n",
       "      <td>Address</td>\n",
       "      <td>Charlotte</td>\n",
       "    </tr>\n",
       "    <tr>\n",
       "      <th>1</th>\n",
       "      <td>2015-12-08 08:59:00</td>\n",
       "      <td>Vehicle Passing</td>\n",
       "      <td>Vehicle cuts in and scrapes RGRTA on left side</td>\n",
       "      <td>03 - MVA with Vehicle</td>\n",
       "      <td>0</td>\n",
       "      <td>15-1762</td>\n",
       "      <td>Non-Preventable</td>\n",
       "      <td>N</td>\n",
       "      <td>NaT</td>\n",
       "      <td>502.0</td>\n",
       "      <td>...</td>\n",
       "      <td>35.0</td>\n",
       "      <td>66.0</td>\n",
       "      <td>M</td>\n",
       "      <td>Straight and Level</td>\n",
       "      <td>Daylight</td>\n",
       "      <td>Clear</td>\n",
       "      <td>Dry</td>\n",
       "      <td>280 Lyell Ave.</td>\n",
       "      <td>Address</td>\n",
       "      <td>0</td>\n",
       "    </tr>\n",
       "    <tr>\n",
       "      <th>1</th>\n",
       "      <td>2016-02-19 13:16:00</td>\n",
       "      <td>Vehicle Passing</td>\n",
       "      <td>Vehicle cuts in and scrapes RGRTA on left side</td>\n",
       "      <td>02 - MVA with Injuries</td>\n",
       "      <td>0</td>\n",
       "      <td>16-248</td>\n",
       "      <td>Non-Preventable</td>\n",
       "      <td>N</td>\n",
       "      <td>NaT</td>\n",
       "      <td>527.0</td>\n",
       "      <td>...</td>\n",
       "      <td>11.0</td>\n",
       "      <td>66.0</td>\n",
       "      <td>M</td>\n",
       "      <td>Straight and Level</td>\n",
       "      <td>Daylight</td>\n",
       "      <td>Clear</td>\n",
       "      <td>Wet</td>\n",
       "      <td>701 Park ave</td>\n",
       "      <td>Address</td>\n",
       "      <td>0</td>\n",
       "    </tr>\n",
       "    <tr>\n",
       "      <th>1</th>\n",
       "      <td>2016-04-20 11:46:00</td>\n",
       "      <td>Vehicle Passing</td>\n",
       "      <td>Vehicle cuts in and scrapes RGRTA on right side</td>\n",
       "      <td>03 - MVA with Vehicle</td>\n",
       "      <td>0</td>\n",
       "      <td>16-503</td>\n",
       "      <td>Non-Preventable</td>\n",
       "      <td>N</td>\n",
       "      <td>NaT</td>\n",
       "      <td>753.0</td>\n",
       "      <td>...</td>\n",
       "      <td>NaN</td>\n",
       "      <td>66.0</td>\n",
       "      <td>M</td>\n",
       "      <td>Straight and Level</td>\n",
       "      <td>Daylight</td>\n",
       "      <td>Clear</td>\n",
       "      <td>Dry</td>\n",
       "      <td>130 West Main Street</td>\n",
       "      <td>Address</td>\n",
       "      <td>Strong</td>\n",
       "    </tr>\n",
       "  </tbody>\n",
       "</table>\n",
       "<p>5 rows × 22 columns</p>\n",
       "</div>"
      ],
      "text/plain": [
       "                        accdate            AccTypeCodeDescr  \\\n",
       "Operator_ID                                                   \n",
       "1           2014-09-29 15:07:00  Collisions w/Other Objects   \n",
       "1           2015-03-18 15:29:00             Vehicle Passing   \n",
       "1           2015-12-08 08:59:00             Vehicle Passing   \n",
       "1           2016-02-19 13:16:00             Vehicle Passing   \n",
       "1           2016-04-20 11:46:00             Vehicle Passing   \n",
       "\n",
       "                                         AccSubTypeCodeDescr  \\\n",
       "Operator_ID                                                    \n",
       "1                     Fixed object (lamp posts, poles, etc.)   \n",
       "1             Vehicle cuts in and scrapes RGRTA on left side   \n",
       "1             Vehicle cuts in and scrapes RGRTA on left side   \n",
       "1             Vehicle cuts in and scrapes RGRTA on left side   \n",
       "1            Vehicle cuts in and scrapes RGRTA on right side   \n",
       "\n",
       "                                acctype BAITFISH Code FileNumber  \\\n",
       "Operator_ID                                                        \n",
       "1            04 - MVA with Fixed Object  Fixed Object    14-1043   \n",
       "1                 03 - MVA with Vehicle             0     15-510   \n",
       "1                 03 - MVA with Vehicle             0    15-1762   \n",
       "1                02 - MVA with Injuries             0     16-248   \n",
       "1                 03 - MVA with Vehicle             0     16-503   \n",
       "\n",
       "              AccPreventable Retraining RetrainingDate  vehbusno  ...  \\\n",
       "Operator_ID                                                       ...   \n",
       "1                Preventable          Y     2014-10-08     528.0  ...   \n",
       "1            Non-Preventable          N            NaT     910.0  ...   \n",
       "1            Non-Preventable          N            NaT     502.0  ...   \n",
       "1            Non-Preventable          N            NaT     527.0  ...   \n",
       "1            Non-Preventable          N            NaT     753.0  ...   \n",
       "\n",
       "            VehNoOccupants  Drv_Age  CoDrvSex             Roadway  \\\n",
       "Operator_ID                                                         \n",
       "1                      5.0     65.0         M     Curve and Grade   \n",
       "1                      0.0     65.0         M  Straight and Level   \n",
       "1                     35.0     66.0         M  Straight and Level   \n",
       "1                     11.0     66.0         M  Straight and Level   \n",
       "1                      NaN     66.0         M  Straight and Level   \n",
       "\n",
       "            RoadwayLightConditions RoadwayWeather RoadwaySurface  \\\n",
       "Operator_ID                                                        \n",
       "1                         Daylight          Clear            Dry   \n",
       "1                         Daylight          Clear            Dry   \n",
       "1                         Daylight          Clear            Dry   \n",
       "1                         Daylight          Clear            Wet   \n",
       "1                         Daylight          Clear            Dry   \n",
       "\n",
       "                         LocAddr1 Addr_Type      Neighborhood  \n",
       "Operator_ID                                                    \n",
       "1                     425 Paul Rd   Address  West Irondequoit  \n",
       "1               699 East Main St.   Address         Charlotte  \n",
       "1                  280 Lyell Ave.   Address                 0  \n",
       "1                   701 Park ave    Address                 0  \n",
       "1            130 West Main Street   Address            Strong  \n",
       "\n",
       "[5 rows x 22 columns]"
      ]
     },
     "execution_count": 11,
     "metadata": {},
     "output_type": "execute_result"
    }
   ],
   "source": [
    "df2 = pd.read_excel(\"Master_Accident_Data.xlsx\")\n",
    "\n",
    "df2=df2.set_index('Operator_ID')\n",
    "df2.head()"
   ]
  },
  {
   "cell_type": "code",
   "execution_count": 12,
   "metadata": {},
   "outputs": [
    {
     "data": {
      "text/html": [
       "<div>\n",
       "<style scoped>\n",
       "    .dataframe tbody tr th:only-of-type {\n",
       "        vertical-align: middle;\n",
       "    }\n",
       "\n",
       "    .dataframe tbody tr th {\n",
       "        vertical-align: top;\n",
       "    }\n",
       "\n",
       "    .dataframe thead th {\n",
       "        text-align: right;\n",
       "    }\n",
       "</style>\n",
       "<table border=\"1\" class=\"dataframe\">\n",
       "  <thead>\n",
       "    <tr style=\"text-align: right;\">\n",
       "      <th></th>\n",
       "      <th>Absence_Type</th>\n",
       "      <th>From_Date</th>\n",
       "      <th>From_Time</th>\n",
       "      <th>To_Date</th>\n",
       "      <th>To_Time</th>\n",
       "    </tr>\n",
       "    <tr>\n",
       "      <th>Operator_ID</th>\n",
       "      <th></th>\n",
       "      <th></th>\n",
       "      <th></th>\n",
       "      <th></th>\n",
       "      <th></th>\n",
       "    </tr>\n",
       "  </thead>\n",
       "  <tbody>\n",
       "    <tr>\n",
       "      <th>3</th>\n",
       "      <td>Absent</td>\n",
       "      <td>2016-04-01</td>\n",
       "      <td>0:00</td>\n",
       "      <td>2016-04-01</td>\n",
       "      <td>25:00</td>\n",
       "    </tr>\n",
       "    <tr>\n",
       "      <th>6</th>\n",
       "      <td>Excused</td>\n",
       "      <td>2016-04-01</td>\n",
       "      <td>13:22</td>\n",
       "      <td>2016-04-01</td>\n",
       "      <td>16:34</td>\n",
       "    </tr>\n",
       "    <tr>\n",
       "      <th>10</th>\n",
       "      <td>Vacation</td>\n",
       "      <td>2016-04-01</td>\n",
       "      <td>0:00</td>\n",
       "      <td>2016-04-01</td>\n",
       "      <td>25:00</td>\n",
       "    </tr>\n",
       "    <tr>\n",
       "      <th>11</th>\n",
       "      <td>Medical</td>\n",
       "      <td>2016-04-01</td>\n",
       "      <td>0:00</td>\n",
       "      <td>2016-04-01</td>\n",
       "      <td>25:00</td>\n",
       "    </tr>\n",
       "    <tr>\n",
       "      <th>27</th>\n",
       "      <td>Medical</td>\n",
       "      <td>2016-04-01</td>\n",
       "      <td>0:00</td>\n",
       "      <td>2016-04-01</td>\n",
       "      <td>25:00</td>\n",
       "    </tr>\n",
       "  </tbody>\n",
       "</table>\n",
       "</div>"
      ],
      "text/plain": [
       "            Absence_Type  From_Date From_Time    To_Date To_Time\n",
       "Operator_ID                                                     \n",
       "3                 Absent 2016-04-01      0:00 2016-04-01   25:00\n",
       "6                Excused 2016-04-01     13:22 2016-04-01   16:34\n",
       "10              Vacation 2016-04-01      0:00 2016-04-01   25:00\n",
       "11               Medical 2016-04-01      0:00 2016-04-01   25:00\n",
       "27               Medical 2016-04-01      0:00 2016-04-01   25:00"
      ]
     },
     "execution_count": 12,
     "metadata": {},
     "output_type": "execute_result"
    }
   ],
   "source": [
    "df3 = pd.read_excel(\"Master_Absence_Data.xlsx\")\n",
    "\n",
    "df3=df3.set_index('Operator_ID')\n",
    "df3=df3.drop(columns=['Unnamed: 6','Unnamed: 7','Unnamed: 8','Unnamed: 9'])\n",
    "df3.head()"
   ]
  },
  {
   "cell_type": "code",
   "execution_count": 13,
   "metadata": {},
   "outputs": [
    {
     "ename": "NameError",
     "evalue": "name 'df' is not defined",
     "output_type": "error",
     "traceback": [
      "\u001b[0;31m---------------------------------------------------------------------------\u001b[0m",
      "\u001b[0;31mNameError\u001b[0m                                 Traceback (most recent call last)",
      "\u001b[0;32m<ipython-input-13-5b7f6d093a28>\u001b[0m in \u001b[0;36m<module>\u001b[0;34m\u001b[0m\n\u001b[0;32m----> 1\u001b[0;31m \u001b[0mdf\u001b[0m\u001b[0;34m.\u001b[0m\u001b[0mindex\u001b[0m\u001b[0;34m.\u001b[0m\u001b[0mtolist\u001b[0m\u001b[0;34m(\u001b[0m\u001b[0;34m)\u001b[0m\u001b[0;34m\u001b[0m\u001b[0;34m\u001b[0m\u001b[0m\n\u001b[0m\u001b[1;32m      2\u001b[0m \u001b[0mtype\u001b[0m\u001b[0;34m(\u001b[0m\u001b[0mdf3\u001b[0m\u001b[0;34m.\u001b[0m\u001b[0mloc\u001b[0m\u001b[0;34m[\u001b[0m\u001b[0;36m1\u001b[0m\u001b[0;34m]\u001b[0m\u001b[0;34m)\u001b[0m\u001b[0;34m\u001b[0m\u001b[0;34m\u001b[0m\u001b[0m\n",
      "\u001b[0;31mNameError\u001b[0m: name 'df' is not defined"
     ]
    }
   ],
   "source": [
    "df.index.tolist()\n",
    "type(df3.loc[1])"
   ]
  },
  {
   "cell_type": "code",
   "execution_count": null,
   "metadata": {},
   "outputs": [],
   "source": [
    "ll=df3['From_Date'].tolist()\n",
    "for k in ll:\n",
    "    print(k.date())\n"
   ]
  },
  {
   "cell_type": "code",
   "execution_count": null,
   "metadata": {},
   "outputs": [],
   "source": [
    "from datetime import datetime\n",
    "date_format = \"%Y-%m-%d\"\n",
    "\n",
    "date=datetime.strptime('2019-07-15', date_format)\n",
    "start=datetime.strptime('2019-07-15', date_format)\n",
    "\n",
    "end=datetime.strptime('2019-07-15', date_format)\n",
    "if date in (start, end):\n",
    "        print('yes')\n",
    "else:\n",
    "        print(\"No\")\n"
   ]
  },
  {
   "cell_type": "code",
   "execution_count": null,
   "metadata": {},
   "outputs": [],
   "source": [
    "dsd=df3.loc[2]\n",
    "for index2, row2 in dsd.iterrows():\n",
    "     c=row2['From_Date'].date()\n",
    "     f=row2['Absence_Type']\n",
    "     print(c,f)"
   ]
  },
  {
   "cell_type": "code",
   "execution_count": null,
   "metadata": {},
   "outputs": [],
   "source": [
    "l=[]\n",
    "for index, row in df.iterrows():\n",
    "   \n",
    "        \n",
    "        a=row['Effective_On'].date()\n",
    "        b=row['No_Longer_Effective_After'].date()\n",
    "        \n",
    "\n",
    "        dd=pd.DataFrame(df3.loc[index])\n",
    "        for index2, row2 in dd.iterrows():\n",
    "                \n",
    "            \n",
    "                c=row2['From_Date'].date()\n",
    "                f=row2['Absence_Type']\n",
    "                \n",
    "                if c in (a, b):\n",
    "                        \n",
    "                        doc={'Effective_On':a,'No_Longer_Effective_After':b,'Absence_Date':c,'Absence_Type':f}\n",
    "                        l.append(doc)\n",
    "                else:\n",
    "                        continue\n",
    "                        \n",
    "                        \n",
    "print('done')"
   ]
  },
  {
   "cell_type": "code",
   "execution_count": null,
   "metadata": {},
   "outputs": [],
   "source": [
    "print(df.loc[1])\n",
    "print(df2.loc[1])\n",
    "print(df3.loc[1])"
   ]
  },
  {
   "cell_type": "code",
   "execution_count": null,
   "metadata": {},
   "outputs": [],
   "source": [
    "\n",
    "\n",
    "for index, row in df.iterrows():\n",
    "    \n",
    "        \n",
    "        a=row['Effective_On'].date()\n",
    "        b=row['No_Longer_Effective_After'].date()\n",
    "        for index2, row2 in df2.iterrows():\n",
    "            if index2==index:\n",
    "                c=row2['accdate'].date()\n",
    "                \n",
    "                \n",
    "                if c in (a, b):\n",
    "                        \n",
    "                        for index3, row3 in df3.iterrows():\n",
    "                            if index3==index2:\n",
    "                                    d=row3['From_Date'].date()\n",
    "                                    f=row3['Absence_Type']\n",
    "                \n",
    "                                    \n",
    "\n",
    "                                    if d in (a, b):\n",
    "                                            dic={'id':index3,'Effective_On':a,'No_Longer_Effective_After':b,'accdate':c,'absnece_Date':d,'Absence_Type':f}\n",
    "                                            print(dic)\n",
    "                                    \n",
    "                            \n",
    "                            else:\n",
    "                                    \n",
    "                                    continue\n",
    "                    \n",
    "                            \n",
    "                            \n",
    "                        \n",
    "                else:\n",
    "                        continue\n",
    "            \n",
    "            else:\n",
    "                \n",
    "                continue\n",
    "            \n",
    "            \n",
    "            \n",
    "                        \n",
    "                        \n",
    "print('done')\n",
    "\n",
    "print(output.head())"
   ]
  },
  {
   "cell_type": "code",
   "execution_count": null,
   "metadata": {},
   "outputs": [],
   "source": []
  },
  {
   "cell_type": "code",
   "execution_count": null,
   "metadata": {},
   "outputs": [],
   "source": []
  }
 ],
 "metadata": {
  "kernelspec": {
   "display_name": "Python 3",
   "language": "python",
   "name": "python3"
  },
  "language_info": {
   "codemirror_mode": {
    "name": "ipython",
    "version": 3
   },
   "file_extension": ".py",
   "mimetype": "text/x-python",
   "name": "python",
   "nbconvert_exporter": "python",
   "pygments_lexer": "ipython3",
   "version": "3.7.3"
  }
 },
 "nbformat": 4,
 "nbformat_minor": 2
}
