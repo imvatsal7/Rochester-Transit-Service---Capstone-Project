{
 "cells": [
  {
   "cell_type": "code",
   "execution_count": 51,
   "metadata": {},
   "outputs": [],
   "source": [
    "\n",
    "import numpy as np\n",
    "import pandas as pd\n",
    "#import pyfpgrowth\n",
    "from mlxtend.preprocessing import TransactionEncoder\n",
    "from mlxtend.frequent_patterns import fpgrowth\n",
    "import matplotlib.pyplot"
   ]
  },
  {
   "cell_type": "code",
   "execution_count": 57,
   "metadata": {},
   "outputs": [],
   "source": [
    "outliers=[]\n",
    "def detect_outlier(data_1):\n",
    "    \n",
    "    threshold=3\n",
    "    mean_1 = np.mean(data_1)\n",
    "    std_1 =np.std(data_1)\n",
    "    \n",
    "    \n",
    "    for y in data_1:\n",
    "        z_score= (y - mean_1)/std_1 \n",
    "        if np.abs(z_score) > threshold:\n",
    "            outliers.append(y)\n",
    "    return outliers"
   ]
  },
  {
   "cell_type": "code",
   "execution_count": 3,
   "metadata": {},
   "outputs": [],
   "source": [
    "schedule=pd.read_excel(\"Master_Scheduled_Days_Off.xlsx\")\n",
    "accident=pd.read_excel(\"Master_Accident_Data.xlsx\")\n",
    "absence=pd.read_excel(\"Master_Absence_Data.xlsx\")\n",
    "absence=absence.drop(absence.columns[6:10],axis=1)\n"
   ]
  },
  {
   "cell_type": "code",
   "execution_count": 4,
   "metadata": {},
   "outputs": [
    {
     "name": "stdout",
     "output_type": "stream",
     "text": [
      "              accdate  Operator_ID  \\\n",
      "0 2017-03-15 18:20:00          365   \n",
      "1 2016-05-18 08:27:00          173   \n",
      "2 2018-09-12 14:09:00          329   \n",
      "3 2019-05-07 15:00:00          276   \n",
      "4 2015-05-12 07:15:00           42   \n",
      "\n",
      "                              AccTypeCodeDescr  \\\n",
      "0               Vehicle Approaching From Angle   \n",
      "1                              Vehicle Passing   \n",
      "2         Collisions with other motor vehicles   \n",
      "3               Vehicle Approaching From Angle   \n",
      "4  Passenger On Board Thrown By RGRTA Movement   \n",
      "\n",
      "                                 AccSubTypeCodeDescr  \\\n",
      "0  Vehicle approaches from right-both straight ac...   \n",
      "1     Vehicle cuts in and scrapes RGRTA on left side   \n",
      "2                                      Miscellaneous   \n",
      "3  Vehicle approaches from left-vehicle turns-RGR...   \n",
      "4  Other part of equipment-passenger standing or ...   \n",
      "\n",
      "                         acctype BAITFISH Code FileNumber   AccPreventable  \\\n",
      "0          03 - MVA with Vehicle             0     17-249  Non-Preventable   \n",
      "1          03 - MVA with Vehicle             0     16-617  Non-Preventable   \n",
      "2          03 - MVA with Vehicle             0    18-1082  Non-Preventable   \n",
      "3          03 - MVA with Vehicle             0     19-598  Non-Preventable   \n",
      "4  06 - On Board Injury/Incident             0     15-861  Non-Preventable   \n",
      "\n",
      "  Retraining RetrainingDate  ...  VehNoOccupants Drv_Age  CoDrvSex  \\\n",
      "0          N            NaT  ...             1.0    47.0         F   \n",
      "1          N            NaT  ...             0.0    40.0         M   \n",
      "2          N            NaT  ...             NaN    39.0         M   \n",
      "3          N            NaT  ...             NaN    41.0         M   \n",
      "4          N            NaT  ...            10.0    63.0         M   \n",
      "\n",
      "                   Roadway  RoadwayLightConditions RoadwayWeather  \\\n",
      "0       Straight and Grade                Daylight           Snow   \n",
      "1       Straight and Level                Daylight          Clear   \n",
      "2       Straight and Level                Daylight         Cloudy   \n",
      "3  Straight with Hillcrest                Daylight         Cloudy   \n",
      "4       Straight and Level                Daylight          Clear   \n",
      "\n",
      "  RoadwaySurface                    LocAddr1     Addr_Type      Neighborhood  \n",
      "0           Snow         2194 N. CLINTON AVE       Address  West Irondequoit  \n",
      "1            Dry              4320 LAKE AVE.       Address         Charlotte  \n",
      "2            Dry                         NaN           NaN                 0  \n",
      "3            Dry                         NaN           NaN                 0  \n",
      "4            Dry  East Dr at Crittenden blvd  Intersection            Strong  \n",
      "\n",
      "[5 rows x 23 columns]\n"
     ]
    }
   ],
   "source": [
    "print(accident.head())"
   ]
  },
  {
   "cell_type": "code",
   "execution_count": 75,
   "metadata": {},
   "outputs": [],
   "source": [
    "preventable_accident_boolean = accident['AccPreventable'] == \"Preventable\"\n",
    "preventable_accident = accident[preventable_accident_boolean]\n",
    "nonpreventable_accident_boolean = accident['AccPreventable'] == \"Non-Preventable\"\n",
    "nonpreventable_accident = accident[nonpreventable_accident_boolean]"
   ]
  },
  {
   "cell_type": "code",
   "execution_count": 6,
   "metadata": {},
   "outputs": [
    {
     "name": "stdout",
     "output_type": "stream",
     "text": [
      "               accdate  Operator_ID                      AccTypeCodeDescr  \\\n",
      "6  2017-06-20 08:00:00           62               Vehicle Operating Ahead   \n",
      "7  2015-07-15 17:38:00          241  Collisions with other motor vehicles   \n",
      "8  2016-09-27 15:25:00          345  Collisions with other motor vehicles   \n",
      "9  2017-03-01 10:04:00          361            Collisions w/Fixed Objects   \n",
      "10 2016-02-24 09:58:00           55            Collisions w/Other Objects   \n",
      "\n",
      "                                  AccSubTypeCodeDescr  \\\n",
      "6   Vehicle slows or stops for traffic (railroad c...   \n",
      "7                                       Miscellaneous   \n",
      "8                                       Miscellaneous   \n",
      "9                                       Miscellaneous   \n",
      "10             Fixed object (lamp posts, poles, etc.)   \n",
      "\n",
      "                       acctype BAITFISH Code FileNumber AccPreventable  \\\n",
      "6       02 - MVA with Injuries     Front End     17-776    Preventable   \n",
      "7        03 - MVA with Vehicle       Turning    15-1148    Preventable   \n",
      "8        03 - MVA with Vehicle       Turning    16-1148    Preventable   \n",
      "9        03 - MVA with Vehicle       Turning     17-208    Preventable   \n",
      "10  04 - MVA with Fixed Object  Fixed Object     16-259    Preventable   \n",
      "\n",
      "   Retraining RetrainingDate  ...  VehNoOccupants Drv_Age  CoDrvSex  \\\n",
      "6           Y     2017-09-06  ...            30.0    63.0         M   \n",
      "7           Y     2015-09-30  ...             NaN    43.0         M   \n",
      "8           Y     2016-10-20  ...             NaN    54.0         M   \n",
      "9           Y     2017-04-20  ...             NaN    47.0         M   \n",
      "10          Y     2016-03-30  ...             3.0    63.0         F   \n",
      "\n",
      "               Roadway  RoadwayLightConditions RoadwayWeather RoadwaySurface  \\\n",
      "6   Straight and Level                Daylight          Clear            Dry   \n",
      "7   Straight and Level                Daylight          Clear            Dry   \n",
      "8   Straight and Grade                Daylight          Clear            Dry   \n",
      "9   Straight and Level                Daylight          Clear            Dry   \n",
      "10  Straight and Level                Daylight           Rain            Wet   \n",
      "\n",
      "                        LocAddr1     Addr_Type               Neighborhood  \n",
      "6          West Ave at Chili Ave  Intersection                  19th Ward  \n",
      "7   Main Street and South Avenue       Address   South Marketview Heights  \n",
      "8      Lexington Ave. @ Wren St.  Intersection                   Edgerton  \n",
      "9           218 East Main Street       Address  Central Business District  \n",
      "10               1305 Culver Rd.       Address                  Beechwood  \n",
      "\n",
      "[5 rows x 23 columns]\n"
     ]
    }
   ],
   "source": [
    "print(preventable_accident.head())"
   ]
  },
  {
   "cell_type": "code",
   "execution_count": 76,
   "metadata": {},
   "outputs": [
    {
     "name": "stdout",
     "output_type": "stream",
     "text": [
      "<class 'pandas.core.series.Series'>\n"
     ]
    },
    {
     "name": "stderr",
     "output_type": "stream",
     "text": [
      "/home/twt/anaconda3/lib/python3.7/site-packages/ipykernel_launcher.py:1: SettingWithCopyWarning: \n",
      "A value is trying to be set on a copy of a slice from a DataFrame.\n",
      "Try using .loc[row_indexer,col_indexer] = value instead\n",
      "\n",
      "See the caveats in the documentation: http://pandas.pydata.org/pandas-docs/stable/user_guide/indexing.html#returning-a-view-versus-a-copy\n",
      "  \"\"\"Entry point for launching an IPython kernel.\n",
      "/home/twt/anaconda3/lib/python3.7/site-packages/ipykernel_launcher.py:3: SettingWithCopyWarning: \n",
      "A value is trying to be set on a copy of a slice from a DataFrame.\n",
      "Try using .loc[row_indexer,col_indexer] = value instead\n",
      "\n",
      "See the caveats in the documentation: http://pandas.pydata.org/pandas-docs/stable/user_guide/indexing.html#returning-a-view-versus-a-copy\n",
      "  This is separate from the ipykernel package so we can avoid doing imports until\n"
     ]
    }
   ],
   "source": [
    "preventable_accident['acctype']=preventable_accident['acctype'].astype('category')\n",
    "print(type(preventable_accident['acctype']))\n",
    "nonpreventable_accident['acctype']=nonpreventable_accident['acctype'].astype('category')"
   ]
  },
  {
   "cell_type": "code",
   "execution_count": 8,
   "metadata": {},
   "outputs": [
    {
     "name": "stdout",
     "output_type": "stream",
     "text": [
      "03 - MVA with Vehicle                       343\n",
      "04 - MVA with Fixed Object                  239\n",
      "06 - On Board Injury/Incident                12\n",
      "10 - Other                                   10\n",
      "02 - MVA with Injuries                        9\n",
      "01 - Pedestrian Struck MVA                    9\n",
      "05 - Boarding or Alighting Injury/Incide      2\n",
      "6                                             1\n",
      "Name: acctype, dtype: int64\n"
     ]
    }
   ],
   "source": [
    "print(preventable_accident['acctype'].value_counts())"
   ]
  },
  {
   "cell_type": "code",
   "execution_count": 93,
   "metadata": {},
   "outputs": [
    {
     "name": "stdout",
     "output_type": "stream",
     "text": [
      "Collisions w/Fixed Objects                     0.272441\n",
      "Collisions w/RGRTA vehicles (Bus to Bus)       0.225197\n",
      "Collisions with other motor vehicles           0.141732\n",
      "Collisions w/Other Objects                     0.107087\n",
      "RGRTA Passing Stationary Vehicle               0.072441\n",
      "Vehicle Approaching From Angle                 0.042520\n",
      "Vehicle Operating Ahead                        0.034646\n",
      "Vehicle Passing                                0.020472\n",
      "RGRTA Passing Moving Vehicle                   0.017323\n",
      "Pedestrian collision                           0.015748\n",
      "Non-Collision Incidents                        0.011024\n",
      "Thrown by movement of RGRTA stopping           0.007874\n",
      "Miscellaneous Other                            0.006299\n",
      "Passenger On Board Thrown By RGRTA Movement    0.006299\n",
      "Overhang Collisions                            0.004724\n",
      "Equipment damage or failure                    0.004724\n",
      "Vehicle Following                              0.003150\n",
      "Passenger Injured on board                     0.003150\n",
      "Passenger injury after alighting               0.001575\n",
      "Vehicle Being Met and Passed                   0.001575\n",
      "Name: AccTypeCodeDescr, dtype: float64\n",
      "Miscellaneous                                                                              0.723975\n",
      "Fixed object (lamp posts, poles, etc.)                                                     0.066246\n",
      "RGRTA scrapes motor vehicle standing along right side                                      0.053628\n",
      "Equipment used for repair, construction, or maintenance                                    0.018927\n",
      "RGRTA scrapes motor vehicle standing along left side                                       0.015773\n",
      "Vehicle slows or stops for traffic signal changes                                          0.012618\n",
      "Vehicle cuts in and scrapes RGRTA on left side                                             0.012618\n",
      "Vehicle slows or stops for traffic (railroad crossing, stop street, or traffic officer)    0.009464\n",
      "Vehicle approaches from right-vehicle straight-RGRTA turns                                 0.007886\n",
      "Vehicle approaches from left-vehicle turns-RGRTA straight                                  0.007886\n",
      "Semi fixed objects (garage doors, etc)                                                     0.006309\n",
      "Passenger seated, being seated or rising from seat                                         0.006309\n",
      "Vehicle approaches from left-vehicle straight-RGRTA turns                                  0.006309\n",
      "Vehicle approaches from right-both turn                                                    0.004732\n",
      "RGRTA cuts in and scrapes vehicle at right front, right side or rear                       0.004732\n",
      "RGRTA cuts in and scrapes vehicle to make right turn                                       0.003155\n",
      "Vehicle in same direction caught by rear overhang, RGRTA turning right                     0.003155\n",
      "Vehicle approaches from left-both straight across                                          0.003155\n",
      "Vehicle slows or stops to make left turn                                                   0.003155\n",
      "Vehicle cuts in and scrapes RGRTA on right side                                            0.003155\n",
      "RGRTA pulls from stop into vehicle                                                         0.003155\n",
      "Vehicle approaches from left-both turn                                                     0.003155\n",
      "Thrown By Movement - Standing or walking                                                   0.003155\n",
      "Vehicle on right caught by RGRTA turning left or right                                     0.001577\n",
      "Other part of equipment-passenger standing or walking                                      0.001577\n",
      "Vehicle approaches from right-vehicle turns-RGRTA straight                                 0.001577\n",
      "Vehicle struck by RGRTA pulling from stop                                                  0.001577\n",
      "Vehicle drifts back or backing                                                             0.001577\n",
      "Vehicle on left caught by RGRTA turning left or right                                      0.001577\n",
      "RGRTA slows or stops to make turns                                                         0.001577\n",
      "RGRTA pulls in front of or into vehicle while pulling into stop                            0.001577\n",
      "Vehicle slows or stops after overtaking and passing for traffic or other reasons           0.001577\n",
      "RGRTA collides with door of vehicle standing on right side                                 0.001577\n",
      "RGRTA cuts in and scrapes side of vehicle                                                  0.001577\n",
      "Name: AccSubTypeCodeDescr, dtype: float64\n",
      "03 - MVA with Vehicle                       0.5488\n",
      "04 - MVA with Fixed Object                  0.3824\n",
      "06 - On Board Injury/Incident               0.0192\n",
      "10 - Other                                  0.0160\n",
      "02 - MVA with Injuries                      0.0144\n",
      "01 - Pedestrian Struck MVA                  0.0144\n",
      "05 - Boarding or Alighting Injury/Incide    0.0032\n",
      "6                                           0.0016\n",
      "Name: acctype, dtype: float64\n",
      "Fixed Object    0.558176\n",
      "General         0.092767\n",
      "Turning         0.091195\n",
      "Encroachment    0.061321\n",
      "Front End       0.047170\n",
      "Backing         0.037736\n",
      "Passenger       0.025157\n",
      "Passing         0.023585\n",
      "Opposing        0.014151\n",
      "Pedestrians     0.012579\n",
      "Weather         0.011006\n",
      "Intersection    0.009434\n",
      "0               0.004717\n",
      "Being Passed    0.003145\n",
      "Rear End        0.003145\n",
      "Mobility        0.001572\n",
      "Mechanical      0.001572\n",
      "Driveway        0.001572\n",
      "Name: BAITFISH Code, dtype: float64\n",
      "Y    0.992138\n",
      "N    0.007862\n",
      "Name: Retraining, dtype: float64\n",
      "528.0     0.012598\n",
      "1305.0    0.012598\n",
      "1417.0    0.012598\n",
      "1323.0    0.011024\n",
      "523.0     0.011024\n",
      "            ...   \n",
      "1610.0    0.001575\n",
      "815.0     0.001575\n",
      "801.0     0.001575\n",
      "510.0     0.001575\n",
      "701.0     0.001575\n",
      "Name: vehbusno, Length: 240, dtype: float64\n",
      "Gillig             0.471947\n",
      "New Flyer          0.430693\n",
      "NE / FL            0.056106\n",
      "New Flyer XD40     0.016502\n",
      "NABI               0.014851\n",
      "NE FL              0.008251\n",
      "NEW FLYER D40LF    0.001650\n",
      "Name: vehmake, dtype: float64\n",
      "2009.0    0.222772\n",
      "2012.0    0.188119\n",
      "2013.0    0.181518\n",
      "2011.0    0.108911\n",
      "2016.0    0.079208\n",
      "2007.0    0.067657\n",
      "2005.0    0.049505\n",
      "2004.0    0.039604\n",
      "2010.0    0.028053\n",
      "2017.0    0.016502\n",
      "2002.0    0.014851\n",
      "201.0     0.001650\n",
      "2000.0    0.001650\n",
      "Name: vehyear, dtype: float64\n",
      "M    0.781447\n",
      "F    0.215409\n",
      "m    0.001572\n",
      "     0.001572\n",
      "Name: CoDrvSex, dtype: float64\n",
      "Straight and Level         0.595070\n",
      "Other                      0.146127\n",
      "Straight and Grade         0.140845\n",
      "Curve and Level            0.056338\n",
      "Curve and Grade            0.038732\n",
      "Straight with Hillcrest    0.008803\n",
      "Curve with Hillcrest       0.008803\n",
      "None                       0.005282\n",
      "Name: Roadway, dtype: float64\n",
      "Daylight             0.692998\n",
      "Dark, but Lighted    0.175943\n",
      "Dark                 0.068223\n",
      "Other                0.037702\n",
      "Dusk                 0.025135\n",
      "Name: RoadwayLightConditions, dtype: float64\n",
      "Clear            0.627949\n",
      "Cloudy           0.166969\n",
      "Snow             0.090744\n",
      "Rain             0.067151\n",
      "Other            0.036298\n",
      "Freezing Rain    0.007260\n",
      "Sleet, Hail      0.001815\n",
      "Fog              0.001815\n",
      "Name: RoadwayWeather, dtype: float64\n",
      "Dry      0.710866\n",
      "Wet      0.173112\n",
      "Snow     0.071823\n",
      "Slush    0.020258\n",
      "Other    0.012891\n",
      "Ice      0.011050\n",
      "Name: RoadwaySurface, dtype: float64\n",
      "Address         0.864271\n",
      "Intersection    0.125749\n",
      "Rochester       0.001996\n",
      "NY              0.001996\n",
      "14611           0.001996\n",
      "14609           0.001996\n",
      "14604           0.001996\n",
      "Name: Addr_Type, dtype: float64\n",
      "0                             0.341195\n",
      "Central Business District     0.221698\n",
      "Beechwood                     0.176101\n",
      "Group 14621                   0.031447\n",
      "South Marketview Heights      0.018868\n",
      "Maplewood                     0.018868\n",
      "Edgerton                      0.014151\n",
      "West Irondequoit              0.012579\n",
      "Mayor's Heights               0.011006\n",
      "Lyell-Otis                    0.011006\n",
      "Strong                        0.011006\n",
      "Charlotte                     0.009434\n",
      "Genesee-Jefferson             0.007862\n",
      "North Marketview Heights      0.007862\n",
      "Upper Falls                   0.007862\n",
      "Culver-Winton-Main            0.007862\n",
      "Neighborhood of the Arts      0.007862\n",
      "East Avenue                   0.007862\n",
      "East Irondequoit              0.007862\n",
      "Highland                      0.006289\n",
      "United Neighbors Together     0.006289\n",
      "Address                       0.006289\n",
      "Brown Square                  0.006289\n",
      "South Wedge                   0.004717\n",
      "Park Avenue                   0.004717\n",
      "Charles House Area Council    0.004717\n",
      "Cobbs Hill                    0.004717\n",
      "19th Ward                     0.004717\n",
      "Northland-Lyceum              0.003145\n",
      "North Winton Village          0.003145\n",
      "Gates                         0.001572\n",
      "Browncroft                    0.001572\n",
      "Dutchtown                     0.001572\n",
      "Highland Park                 0.001572\n",
      "Pearl-Meigs-Monroe            0.001572\n",
      "Plymouth-Exchange             0.001572\n",
      "Homestead Heights             0.001572\n",
      "NY                            0.001572\n",
      "Name: Neighborhood, dtype: float64\n",
      "Collisions with other motor vehicles           0.347633\n",
      "Vehicle Passing                                0.220414\n",
      "Vehicle Following                              0.121302\n",
      "Vehicle Approaching From Angle                 0.100592\n",
      "Collisions w/RGRTA vehicles (Bus to Bus)       0.047337\n",
      "Collisions w/Fixed Objects                     0.026627\n",
      "Thrown by movement of RGRTA stopping           0.025148\n",
      "Collisions w/Other Objects                     0.020710\n",
      "Passenger On Board Thrown By RGRTA Movement    0.019231\n",
      "Passenger Injured on board                     0.013314\n",
      "RGRTA Passing Stationary Vehicle               0.011834\n",
      "Vehicle Operating Ahead                        0.010355\n",
      "Thrown by movement of RGRTA running            0.010355\n",
      "Pedestrian collision                           0.008876\n",
      "RGRTA Passing Moving Vehicle                   0.005917\n",
      "Vehicle Being Met and Passed                   0.002959\n",
      "Overhang Collisions                            0.001479\n",
      "Non-Collision Incidents                        0.001479\n",
      "Involvements-Passenger or other persons        0.001479\n",
      "Miscellaneous Other                            0.001479\n",
      "Passenger Thrown Alighting                     0.001479\n",
      "Name: AccTypeCodeDescr, dtype: float64\n",
      "Miscellaneous                                                                                        0.491852\n",
      "Vehicle cuts in and scrapes RGRTA on left side                                                       0.180741\n",
      "RGRTA slows or stops to load or discharge                                                            0.075556\n",
      "Vehicle approaches from right-both straight across                                                   0.034074\n",
      "Vehicle approaches from left-vehicle turns-RGRTA straight                                            0.028148\n",
      "Passenger seated, being seated or rising from seat                                                   0.020741\n",
      "Vehicle approaches from left-both straight across                                                    0.017778\n",
      "RGRTA slows or stops for traffic (railroad crossing, stop street, traffic officer)                   0.017778\n",
      "Vehicle cuts in and scrapes RGRTA on right side                                                      0.013333\n",
      "Vehicle cuts in and scraped RGRTA at left front while changing traffic lanes or making right turn    0.013333\n",
      "Other part of equipment-passenger standing or walking                                                0.013333\n",
      "Front door area-passenger standing or walking                                                        0.011852\n",
      "RGRTA slows or stops for traffic signal changes                                                      0.010370\n",
      "RGRTA collides with door of vehicle standing on right side                                           0.010370\n",
      "Animal                                                                                               0.007407\n",
      "Vehicle approaches from right-vehicle turns-RGRTA straight                                           0.007407\n",
      "Vehicle strikes RGRTA leaving passenger stop                                                         0.004444\n",
      "RGRTA slows or stops to make turns                                                                   0.004444\n",
      "Thrown By Movement - Standing or walking                                                             0.004444\n",
      "Fixed object (lamp posts, poles, etc.)                                                               0.004444\n",
      "Vehicle pulls or backs out in front or into RGRTA                                                    0.002963\n",
      "Vehicle approaches from left-both turn                                                               0.002963\n",
      "Vehicle on left caught by RGRTA turning left or right                                                0.002963\n",
      "RGRTA slows or stops for other reasons                                                               0.002963\n",
      "Vehicle approaches from left-vehicle straight-RGRTA turns                                            0.002963\n",
      "Thrown By Movement - Being seated, seating, or rising from seat                                      0.001481\n",
      "Vehicle slows or stops after overtaking and passing for traffic or other reasons                     0.001481\n",
      "Vehicle on right caught by RGRTA turning left or right                                               0.001481\n",
      "Semi fixed objects (garage doors, etc)                                                               0.001481\n",
      "Vehicle turns left in front of or into RGRTA                                                         0.001481\n",
      "Vehicle cuts in and scrapes side of RGRTA                                                            0.001481\n",
      "Vehicle cuts in and scrapes RGRTA at right front while changing traffic lanes or making left turn    0.001481\n",
      "Vehicle slows or stops to make left turn                                                             0.001481\n",
      "While stopping                                                                                       0.001481\n",
      "Name: AccSubTypeCodeDescr, dtype: float64\n",
      "03 - MVA with Vehicle                       0.818991\n",
      "06 - On Board Injury/Incident               0.071217\n",
      "02 - MVA with Injuries                      0.044510\n",
      "04 - MVA with Fixed Object                  0.041543\n",
      "10 - Other                                  0.013353\n",
      "01 - Pedestrian Struck MVA                  0.007418\n",
      "05 - Boarding or Alighting Injury/Incide    0.001484\n",
      "03 - MVA with Vehicle ( Hit & Run )         0.001484\n",
      "Name: acctype, dtype: float64\n",
      "0               0.995575\n",
      "Fixed Object    0.004425\n",
      "Name: BAITFISH Code, dtype: float64\n",
      "N    0.992625\n",
      "Y    0.007375\n",
      "Name: Retraining, dtype: float64\n",
      "1332.0    0.013294\n",
      "763.0     0.011817\n",
      "1321.0    0.011817\n",
      "538.0     0.010340\n",
      "387.0     0.010340\n",
      "            ...   \n",
      "1615.0    0.001477\n",
      "814.0     0.001477\n",
      "731.0     0.001477\n",
      "1404.0    0.001477\n",
      "1809.0    0.001477\n",
      "Name: vehbusno, Length: 227, dtype: float64\n",
      "New Flyer          0.460507\n",
      "Gillig             0.453055\n",
      "NE / FL            0.050671\n",
      "New Flyer XD40     0.014903\n",
      "NE FL              0.011923\n",
      "NABI               0.002981\n",
      "NEW FLYER D40LF    0.002981\n",
      "Newfl              0.001490\n",
      "GILG               0.001490\n",
      "Name: vehmake, dtype: float64\n",
      "2009.0    0.222057\n",
      "2013.0    0.201192\n",
      "2012.0    0.171386\n",
      "2011.0    0.117735\n",
      "2007.0    0.077496\n",
      "2016.0    0.070045\n",
      "2005.0    0.043219\n",
      "2010.0    0.038748\n",
      "2004.0    0.022355\n",
      "2017.0    0.014903\n",
      "201.0     0.007452\n",
      "2018.0    0.005961\n",
      "2002.0    0.002981\n",
      "2000.0    0.002981\n",
      "4.0       0.001490\n",
      "Name: vehyear, dtype: float64\n",
      "M    0.740413\n",
      "F    0.259587\n",
      "Name: CoDrvSex, dtype: float64\n",
      "Straight and Level         0.7120\n",
      "Straight and Grade         0.1776\n",
      "Curve and Level            0.0480\n",
      "Straight with Hillcrest    0.0272\n",
      "Other                      0.0160\n",
      "Curve and Grade            0.0096\n",
      "Curve with Hillcrest       0.0096\n",
      "Name: Roadway, dtype: float64\n",
      "Daylight             0.811897\n",
      "Dark, but Lighted    0.112540\n",
      "Dark                 0.056270\n",
      "Dusk                 0.014469\n",
      "Other                0.004823\n",
      "Name: RoadwayLightConditions, dtype: float64\n",
      "Clear            0.583468\n",
      "Cloudy           0.217180\n",
      "Snow             0.095624\n",
      "Rain             0.090762\n",
      "Other            0.006483\n",
      "Sleet, Hail      0.003241\n",
      "Freezing Rain    0.003241\n",
      "Name: RoadwayWeather, dtype: float64\n",
      "Dry      0.688312\n",
      "Wet      0.181818\n",
      "Snow     0.066558\n",
      "Slush    0.047078\n",
      "Ice      0.016234\n",
      "Name: RoadwaySurface, dtype: float64\n",
      "Address         0.763736\n",
      "Intersection    0.230769\n",
      "Rochester       0.005495\n",
      "Name: Addr_Type, dtype: float64\n",
      "0                             0.389381\n",
      "Central Business District     0.103245\n",
      "Group 14621                   0.058997\n",
      "Maplewood                     0.047198\n",
      "19th Ward                     0.038348\n",
      "Edgerton                      0.036873\n",
      "Beechwood                     0.023599\n",
      "Upper Falls                   0.023599\n",
      "South Wedge                   0.022124\n",
      "Strong                        0.019174\n",
      "Neighborhood of the Arts      0.019174\n",
      "Charlotte                     0.017699\n",
      "East Irondequoit              0.016224\n",
      "North Marketview Heights      0.014749\n",
      "Brown Square                  0.014749\n",
      "Genesee-Jefferson             0.011799\n",
      "East Avenue                   0.011799\n",
      "Lyell-Otis                    0.010324\n",
      "Culver-Winton-Main            0.010324\n",
      "Dutchtown                     0.010324\n",
      "Cobbs Hill                    0.008850\n",
      "West Irondequoit              0.008850\n",
      "Mayor's Heights               0.008850\n",
      "Plymouth-Exchange             0.008850\n",
      "Northland-Lyceum              0.007375\n",
      "Swillburg                     0.007375\n",
      "United Neighbors Together     0.007375\n",
      "Park Avenue                   0.005900\n",
      "South Marketview Heights      0.005900\n",
      "NY                            0.004425\n",
      "Highland                      0.004425\n",
      "North Winton Village          0.004425\n",
      "Highland Park                 0.002950\n",
      "Browncroft                    0.002950\n",
      "Corn Hill                     0.002950\n",
      "Pearl-Meigs-Monroe            0.001475\n",
      "Homestead Heights             0.001475\n",
      "Susan B. Anthony              0.001475\n",
      "Charles House Area Council    0.001475\n",
      "Oak Lawn                      0.001475\n",
      "High Falls                    0.001475\n",
      "Name: Neighborhood, dtype: float64\n"
     ]
    }
   ],
   "source": [
    "pieces=[]\n",
    "\n",
    "cate_columns=['AccTypeCodeDescr', 'AccSubTypeCodeDescr',\n",
    "       'acctype', 'BAITFISH Code',\n",
    "       'Retraining', 'vehbusno', 'vehmake', 'vehyear',\n",
    "       'CoDrvSex', 'Roadway',\n",
    "       'RoadwayLightConditions', 'RoadwayWeather', 'RoadwaySurface',\n",
    "        'Addr_Type', 'Neighborhood']\n",
    "\n",
    "'''\n",
    "cate_columns=['AccTypeCodeDescr', 'AccSubTypeCodeDescr',\n",
    "       'acctype', 'BAITFISH Code',\n",
    "       'Retraining', 'vehmake', 'vehyear',\n",
    "       'CoDrvSex', 'Roadway',\n",
    "       'RoadwayLightConditions', 'RoadwayWeather', 'RoadwaySurface',\n",
    "        'Addr_Type', 'Neighborhood']\n",
    "'''\n",
    "for col in cate_columns:\n",
    "    tmp_series = preventable_accident[col].value_counts(normalize=True)\n",
    "    print(tmp_series)\n",
    "    tmp_series.name = col\n",
    "    pieces.append(tmp_series)\n",
    "df_value_counts = pd.concat(pieces,axis=1,sort=True).reindex() \n",
    "\n",
    "pieces=[]\n",
    "for col in cate_columns:\n",
    "    tmp_series = nonpreventable_accident[col].value_counts(normalize=True)\n",
    "    print(tmp_series)\n",
    "    tmp_series.name = col\n",
    "    pieces.append(tmp_series)\n",
    "df_non_value_counts = pd.concat(pieces,axis=1,sort=True).reindex() "
   ]
  },
  {
   "cell_type": "code",
   "execution_count": 94,
   "metadata": {},
   "outputs": [],
   "source": [
    "df_value_counts.to_excel(\"output_given_preventable.xlsx\")\n",
    "df_non_value_counts.to_excel(\"output_given_nonpreventable.xlsx\")"
   ]
  },
  {
   "cell_type": "code",
   "execution_count": 109,
   "metadata": {},
   "outputs": [
    {
     "data": {
      "text/plain": [
       "1305.0    0.012598\n",
       "1417.0    0.012598\n",
       "528.0     0.012598\n",
       "1411.0    0.011024\n",
       "1304.0    0.011024\n",
       "Name: vehbusno, dtype: float64"
      ]
     },
     "execution_count": 109,
     "metadata": {},
     "output_type": "execute_result"
    },
    {
     "data": {
      "image/png": "[encoded data removed]",
      "text/plain": [
       "<Figure size 432x288 with 1 Axes>"
      ]
     },
     "metadata": {
      "needs_background": "light"
     },
     "output_type": "display_data"
    }
   ],
   "source": [
    "target='vehbusno'\n",
    "target_factor=df_value_counts[target].dropna()\n",
    "target_factor2=df_non_value_counts[target].dropna()\n",
    "matplotlib.pyplot.boxplot(target_factor)\n",
    "target_factor.sort_values(ascending=False).head(5)"
   ]
  },
  {
   "cell_type": "code",
   "execution_count": 110,
   "metadata": {},
   "outputs": [
    {
     "data": {
      "text/plain": [
       "1332.0    0.013294\n",
       "1321.0    0.011817\n",
       "763.0     0.011817\n",
       "541.0     0.010340\n",
       "528.0     0.010340\n",
       "Name: vehbusno, dtype: float64"
      ]
     },
     "execution_count": 110,
     "metadata": {},
     "output_type": "execute_result"
    },
    {
     "data": {
      "image/png": "[encoded data removed]",
      "text/plain": [
       "<Figure size 432x288 with 1 Axes>"
      ]
     },
     "metadata": {
      "needs_background": "light"
     },
     "output_type": "display_data"
    }
   ],
   "source": [
    "matplotlib.pyplot.boxplot(target_factor2)\n",
    "target_factor2.sort_values(ascending=False).head(5)"
   ]
  },
  {
   "cell_type": "code",
   "execution_count": 111,
   "metadata": {},
   "outputs": [
    {
     "data": {
      "text/plain": [
       "Clear            0.627949\n",
       "Cloudy           0.166969\n",
       "Snow             0.090744\n",
       "Rain             0.067151\n",
       "Other            0.036298\n",
       "Freezing Rain    0.007260\n",
       "Sleet, Hail      0.001815\n",
       "Fog              0.001815\n",
       "Name: RoadwayWeather, dtype: float64"
      ]
     },
     "execution_count": 111,
     "metadata": {},
     "output_type": "execute_result"
    },
    {
     "data": {
      "image/png": "[encoded data removed]",
      "text/plain": [
       "<Figure size 432x288 with 1 Axes>"
      ]
     },
     "metadata": {
      "needs_background": "light"
     },
     "output_type": "display_data"
    }
   ],
   "source": [
    "target='RoadwayWeather'\n",
    "target_factor=df_value_counts[target].dropna()\n",
    "target_factor2=df_non_value_counts[target].dropna()\n",
    "matplotlib.pyplot.boxplot(target_factor)\n",
    "target_factor.sort_values(ascending=False).head(10)"
   ]
  },
  {
   "cell_type": "code",
   "execution_count": 112,
   "metadata": {},
   "outputs": [
    {
     "data": {
      "text/plain": [
       "Clear            0.583468\n",
       "Cloudy           0.217180\n",
       "Snow             0.095624\n",
       "Rain             0.090762\n",
       "Other            0.006483\n",
       "Sleet, Hail      0.003241\n",
       "Freezing Rain    0.003241\n",
       "Name: RoadwayWeather, dtype: float64"
      ]
     },
     "execution_count": 112,
     "metadata": {},
     "output_type": "execute_result"
    },
    {
     "data": {
      "image/png": "[encoded data removed]",
      "text/plain": [
       "<Figure size 432x288 with 1 Axes>"
      ]
     },
     "metadata": {
      "needs_background": "light"
     },
     "output_type": "display_data"
    }
   ],
   "source": [
    "matplotlib.pyplot.boxplot(target_factor2)\n",
    "target_factor2.sort_values(ascending=False).head(10)"
   ]
  },
  {
   "cell_type": "code",
   "execution_count": 114,
   "metadata": {},
   "outputs": [
    {
     "data": {
      "text/plain": [
       "0                            0.341195\n",
       "Central Business District    0.221698\n",
       "Beechwood                    0.176101\n",
       "Group 14621                  0.031447\n",
       "Maplewood                    0.018868\n",
       "Name: Neighborhood, dtype: float64"
      ]
     },
     "execution_count": 114,
     "metadata": {},
     "output_type": "execute_result"
    },
    {
     "data": {
      "image/png": "[encoded data removed]",
      "text/plain": [
       "<Figure size 432x288 with 1 Axes>"
      ]
     },
     "metadata": {
      "needs_background": "light"
     },
     "output_type": "display_data"
    }
   ],
   "source": [
    "target='Neighborhood'\n",
    "target_factor=df_value_counts[target].dropna()\n",
    "target_factor2=df_non_value_counts[target].dropna()\n",
    "matplotlib.pyplot.boxplot(target_factor)\n",
    "target_factor.sort_values(ascending=False).head(5)"
   ]
  },
  {
   "cell_type": "code",
   "execution_count": 115,
   "metadata": {},
   "outputs": [
    {
     "data": {
      "text/plain": [
       "0                            0.389381\n",
       "Central Business District    0.103245\n",
       "Group 14621                  0.058997\n",
       "Maplewood                    0.047198\n",
       "19th Ward                    0.038348\n",
       "Name: Neighborhood, dtype: float64"
      ]
     },
     "execution_count": 115,
     "metadata": {},
     "output_type": "execute_result"
    },
    {
     "data": {
      "image/png": "[encoded data removed]",
      "text/plain": [
       "<Figure size 432x288 with 1 Axes>"
      ]
     },
     "metadata": {
      "needs_background": "light"
     },
     "output_type": "display_data"
    }
   ],
   "source": [
    "matplotlib.pyplot.boxplot(target_factor2)\n",
    "target_factor2.sort_values(ascending=False).head(5)"
   ]
  },
  {
   "cell_type": "code",
   "execution_count": 116,
   "metadata": {},
   "outputs": [
    {
     "data": {
      "text/plain": [
       "Collisions w/Fixed Objects                  0.272441\n",
       "Collisions w/RGRTA vehicles (Bus to Bus)    0.225197\n",
       "Collisions with other motor vehicles        0.141732\n",
       "Collisions w/Other Objects                  0.107087\n",
       "RGRTA Passing Stationary Vehicle            0.072441\n",
       "Name: AccTypeCodeDescr, dtype: float64"
      ]
     },
     "execution_count": 116,
     "metadata": {},
     "output_type": "execute_result"
    },
    {
     "data": {
      "image/png": "[encoded data removed]",
      "text/plain": [
       "<Figure size 432x288 with 1 Axes>"
      ]
     },
     "metadata": {
      "needs_background": "light"
     },
     "output_type": "display_data"
    }
   ],
   "source": [
    "target='AccTypeCodeDescr'\n",
    "target_factor=df_value_counts[target].dropna()\n",
    "target_factor2=df_non_value_counts[target].dropna()\n",
    "matplotlib.pyplot.boxplot(target_factor)\n",
    "target_factor.sort_values(ascending=False).head(5)"
   ]
  },
  {
   "cell_type": "code",
   "execution_count": 117,
   "metadata": {},
   "outputs": [
    {
     "data": {
      "text/plain": [
       "Collisions with other motor vehicles        0.347633\n",
       "Vehicle Passing                             0.220414\n",
       "Vehicle Following                           0.121302\n",
       "Vehicle Approaching From Angle              0.100592\n",
       "Collisions w/RGRTA vehicles (Bus to Bus)    0.047337\n",
       "Name: AccTypeCodeDescr, dtype: float64"
      ]
     },
     "execution_count": 117,
     "metadata": {},
     "output_type": "execute_result"
    },
    {
     "data": {
      "image/png": "[encoded data removed]",
      "text/plain": [
       "<Figure size 432x288 with 1 Axes>"
      ]
     },
     "metadata": {
      "needs_background": "light"
     },
     "output_type": "display_data"
    }
   ],
   "source": [
    "matplotlib.pyplot.boxplot(target_factor2)\n",
    "target_factor2.sort_values(ascending=False).head(5)"
   ]
  },
  {
   "cell_type": "code",
   "execution_count": 118,
   "metadata": {},
   "outputs": [
    {
     "data": {
      "text/plain": [
       "Collisions w/Fixed Objects                  0.272441\n",
       "Collisions w/RGRTA vehicles (Bus to Bus)    0.225197\n",
       "Collisions with other motor vehicles        0.141732\n",
       "Collisions w/Other Objects                  0.107087\n",
       "RGRTA Passing Stationary Vehicle            0.072441\n",
       "Name: AccTypeCodeDescr, dtype: float64"
      ]
     },
     "execution_count": 118,
     "metadata": {},
     "output_type": "execute_result"
    },
    {
     "data": {
      "image/png": "[encoded data removed]",
      "text/plain": [
       "<Figure size 432x288 with 1 Axes>"
      ]
     },
     "metadata": {
      "needs_background": "light"
     },
     "output_type": "display_data"
    }
   ],
   "source": [
    "target='AccTypeCodeDescr'\n",
    "target_factor=df_value_counts[target].dropna()\n",
    "target_factor2=df_non_value_counts[target].dropna()\n",
    "matplotlib.pyplot.boxplot(target_factor)\n",
    "target_factor.sort_values(ascending=False).head(5)"
   ]
  },
  {
   "cell_type": "code",
   "execution_count": null,
   "metadata": {},
   "outputs": [],
   "source": [
    "matplotlib.pyplot.boxplot(target_factor2)\n",
    "target_factor2.sort_values(ascending=False).head(5)"
   ]
  }
 ],
 "metadata": {
  "kernelspec": {
   "display_name": "Python 3",
   "language": "python",
   "name": "python3"
  },
  "language_info": {
   "codemirror_mode": {
    "name": "ipython",
    "version": 3
   },
   "file_extension": ".py",
   "mimetype": "text/x-python",
   "name": "python",
   "nbconvert_exporter": "python",
   "pygments_lexer": "ipython3",
   "version": "3.7.3"
  }
 },
 "nbformat": 4,
 "nbformat_minor": 2
}
